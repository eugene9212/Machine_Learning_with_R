{
 "cells": [
  {
   "cell_type": "markdown",
   "metadata": {},
   "source": [
    "# Code Explanation"
   ]
  },
  {
   "cell_type": "markdown",
   "metadata": {},
   "source": [
    "## 1. train.knn"
   ]
  },
  {
   "cell_type": "markdown",
   "metadata": {},
   "source": [
    "__train.knn(train.x, train.y)__"
   ]
  },
  {
   "cell_type": "markdown",
   "metadata": {},
   "source": [
    "* purpose : train KNN model (Just memorize all the training set, nothing else to do)\n",
    "* input\n",
    "    - train.x, train.y : train set\n",
    "* output : train.x, train.y"
   ]
  },
  {
   "cell_type": "markdown",
   "metadata": {},
   "source": [
    "## 2. predict.knn"
   ]
  },
  {
   "cell_type": "markdown",
   "metadata": {},
   "source": [
    "__predict.knn(obj, test.x, k = 1, distance = \"L1\")__"
   ]
  },
  {
   "cell_type": "markdown",
   "metadata": {},
   "source": [
    "* purpose : make a prediction with trained KNN model\n",
    "* input\n",
    "    - obj : trained object which contains train set\n",
    "    - test.x : test set for prediction\n",
    "    - k : the number of neighbors for this model\n",
    "    - distance : distance measurement (L1 and L2 are available)\n",
    "* output : predicted values(labels), distance, k"
   ]
  },
  {
   "cell_type": "markdown",
   "metadata": {},
   "source": [
    "## 3. predict.knn.par"
   ]
  },
  {
   "cell_type": "markdown",
   "metadata": {},
   "source": [
    "__predict.knn.par(obj, test.x, k = 1, distance = \"L1\", core = NA)__"
   ]
  },
  {
   "cell_type": "markdown",
   "metadata": {},
   "source": [
    "* purpose : make a prediction with parallel computing\n",
    "* input\n",
    "    - obj : trained object which contains train set\n",
    "    - test.x : test set for prediction\n",
    "    - k : the number of neighbors for this model\n",
    "    - distance : distance measurement (L1 and L2 are available)\n",
    "    - core : the number of cores to assign for parellel computing (if default=NA, then automatically detect and assign the cores)\n",
    "* output : predicted values(labels), distance, k"
   ]
  }
 ],
 "metadata": {
  "kernelspec": {
   "display_name": "Python 3",
   "language": "python",
   "name": "python3"
  },
  "language_info": {
   "codemirror_mode": {
    "name": "ipython",
    "version": 3
   },
   "file_extension": ".py",
   "mimetype": "text/x-python",
   "name": "python",
   "nbconvert_exporter": "python",
   "pygments_lexer": "ipython3",
   "version": "3.6.5"
  }
 },
 "nbformat": 4,
 "nbformat_minor": 2
}
