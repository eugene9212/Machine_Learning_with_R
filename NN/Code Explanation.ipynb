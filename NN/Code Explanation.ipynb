{
 "cells": [
  {
   "cell_type": "markdown",
   "metadata": {},
   "source": [
    "# Code Explanation"
   ]
  },
  {
   "cell_type": "markdown",
   "metadata": {},
   "source": [
    "## 1. train.NN"
   ]
  },
  {
   "cell_type": "markdown",
   "metadata": {},
   "source": [
    "__train.NN(train.x, train.y, w.type = \"RBM\", s.d. = 0, layer.units = c(3,3), update, learning = 0.01, hyper.p = 0, epoch = 1)__"
   ]
  },
  {
   "cell_type": "markdown",
   "metadata": {},
   "source": [
    "* purpose : training Neural Network.\n",
    "\n",
    "* input \n",
    "    - train.x, train.y  : x and y train set\n",
    "    - w.type : initialize weight matrix (related with __w.init__ code). default = RBM\n",
    "    - s.d. : standard deviation (used when weight initialization is done by user defined normal dist.) \n",
    "    - layer.units : units for each layer. default = c(3,3)\n",
    "    - update : weight update method in backpropagation. default = momentum\n",
    "    - learning : learning rate for weight update. default = 0.01\n",
    "    - hyper.p : other hyper parameters, e.x. momentum or beta1 and beta2 for Adam. default = 0\n",
    "    - epoch : the number of epoch for tarining. default = 1\n",
    "* output : weight, bias, layer.units, learning, hyper.p"
   ]
  },
  {
   "cell_type": "markdown",
   "metadata": {},
   "source": [
    "# 2. w.init"
   ]
  },
  {
   "cell_type": "markdown",
   "metadata": {},
   "source": [
    "__w.init(w.type, layers, in.trn, learning, s.d. = N.A)__"
   ]
  },
  {
   "cell_type": "markdown",
   "metadata": {},
   "source": [
    "* purpose : initialize weight matrix between the layers.\n",
    "\n",
    "* input \n",
    "    - w.type : methods for initialization. (normal, RBM, Xavier, He are available)\n",
    "    - layers : number of inits including input and output layer\n",
    "    - in.trn : training set\n",
    "    - s.d. : standard deviation for user defined normal distribution\n",
    "* output : weight, bias"
   ]
  },
  {
   "cell_type": "markdown",
   "metadata": {},
   "source": [
    "# 3. w.update"
   ]
  },
  {
   "cell_type": "markdown",
   "metadata": {},
   "source": [
    "__w.update(update = \"momentum\", weight, layer1OUT, layer2INbias, error, learning, hyper.p = 0, pre_delta1, pre_delta2 = N.A.)__"
   ]
  },
  {
   "cell_type": "markdown",
   "metadata": {},
   "source": [
    "* purpose : weight update during backpropagation\n",
    "\n",
    "* input \n",
    "    - update : update methods for weight. (momentum, AdaGrad, Adam are available)\n",
    "    - weight : weight for update\n",
    "    - layer1OUT : output of downstream layer\n",
    "    - layer2INbias : bias term of upper layer\n",
    "    - error : error form the upstream\n",
    "    - learning : learning rate\n",
    "    - hyper.p : momentum and AdaGrad require one single value whereas Adam requires two values for beta1 and beta2.\n",
    "    - pre_delta1 : to store the previous values. (used in all methods)\n",
    "    - pre_delta2 : to store the previous values. (only used in Adam therefore the defualt is N.A.)\n",
    "* output : weight, layer2INbias, pre_delta1, pre_delta2"
   ]
  },
  {
   "cell_type": "markdown",
   "metadata": {},
   "source": [
    "# 4. cd.weight"
   ]
  },
  {
   "cell_type": "markdown",
   "metadata": {},
   "source": [
    "__cd.weight(input, weight, bias_v, bias_h, learning)__"
   ]
  },
  {
   "cell_type": "markdown",
   "metadata": {},
   "source": [
    "* purpose : updating weight using Contrastive Divergence (then weight will converge to a certain structure by one step)\n",
    "* input\n",
    "    - input : training set of x\n",
    "    - weight : randomized/initialized weight\n",
    "    - bias_v : for visible layer (In this theory there are visible layer which refers to the lower layer)\n",
    "    - bias_h : for hidden layer (hidden layer which refers to the upper layer)\n",
    "    - learning : learning rate\n",
    "* output : weight, bias_v, bias_h"
   ]
  },
  {
   "cell_type": "markdown",
   "metadata": {},
   "source": [
    "# 5. sigmoid"
   ]
  },
  {
   "cell_type": "markdown",
   "metadata": {},
   "source": [
    "__sigmoid(input, output, b0=0)__"
   ]
  },
  {
   "cell_type": "markdown",
   "metadata": {},
   "source": [
    "* purpose : Calculate the sigmoid (Acvivation function)\n",
    "* input\n",
    "    - input : for input data\n",
    "    - output :  for weight\n",
    "    - b0 : for bias term\n",
    "* output : weight, bias_v, bias_h"
   ]
  },
  {
   "cell_type": "markdown",
   "metadata": {},
   "source": [
    "# 6. predict.NN"
   ]
  },
  {
   "cell_type": "markdown",
   "metadata": {},
   "source": [
    "__predict.NN(test.x, test.y, obj)__"
   ]
  },
  {
   "cell_type": "markdown",
   "metadata": {},
   "source": [
    "* purpose : predict the data with trained Neural Net\n",
    "* input\n",
    "    - test.x : test set\n",
    "    - obj : object that contained trained Neural Net with train.NN code\n",
    "* output : output(predicted value)"
   ]
  },
  {
   "cell_type": "markdown",
   "metadata": {},
   "source": [
    "# 7. ROC"
   ]
  },
  {
   "cell_type": "markdown",
   "metadata": {},
   "source": [
    "__ROC(x, predicted.y, true.y)__"
   ]
  },
  {
   "cell_type": "markdown",
   "metadata": {},
   "source": [
    "* purpose : calculate FPR and TPR for drawing ROC curve. (additionally error and confusion matrix are calculated) \n",
    "* input\n",
    "    - x : criterion number\n",
    "    - predicted.y : predicted values of test set\n",
    "    - true.y : true labels of test set\n",
    "* output : ROC=c(FPR,TPR), error, confucion matrix"
   ]
  },
  {
   "cell_type": "code",
   "execution_count": null,
   "metadata": {},
   "outputs": [],
   "source": []
  }
 ],
 "metadata": {
  "kernelspec": {
   "display_name": "Python 3",
   "language": "python",
   "name": "python3"
  },
  "language_info": {
   "codemirror_mode": {
    "name": "ipython",
    "version": 3
   },
   "file_extension": ".py",
   "mimetype": "text/x-python",
   "name": "python",
   "nbconvert_exporter": "python",
   "pygments_lexer": "ipython3",
   "version": "3.6.5"
  }
 },
 "nbformat": 4,
 "nbformat_minor": 2
}
