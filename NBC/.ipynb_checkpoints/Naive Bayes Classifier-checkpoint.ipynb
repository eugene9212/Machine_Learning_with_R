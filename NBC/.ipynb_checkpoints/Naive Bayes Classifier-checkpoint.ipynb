{
 "cells": [
  {
   "cell_type": "markdown",
   "metadata": {},
   "source": [
    "# Naive Bayes Classifier "
   ]
  },
  {
   "cell_type": "markdown",
   "metadata": {},
   "source": [
    "## Introduction"
   ]
  },
  {
   "cell_type": "markdown",
   "metadata": {},
   "source": [
    "Naive Bayes Classifier is a classification method using Bayes theorem. The algorithm is quite simple. As it uses Bayes theorem, it decides the class of the sample by comparing the posterior probability. This classifier is probabilistic model, since it assumes the probability distribution of the data and uses iid(identical and independently distributed) assumption for constructing likelihood : If covariates are continuous, we assume Normal distribution and if discrete, Bernoulli or mulinomial distribution."
   ]
  },
  {
   "cell_type": "markdown",
   "metadata": {},
   "source": [
    "## Algorithm"
   ]
  },
  {
   "cell_type": "markdown",
   "metadata": {},
   "source": [
    "The code that I posted is about the continuous covariate case and the logic is as follows."
   ]
  },
  {
   "cell_type": "markdown",
   "metadata": {},
   "source": [
    "1. Split the train and test data\n",
    "\t- Train data = $\\{x_i,y_i\\}^{N}_{i=1}$    , where  $x_i$ : covariates of data, $y_i \\in \\{0,1\\}$ : class label\n",
    "\t- $N_k$ = the number of class k"
   ]
  },
  {
   "cell_type": "markdown",
   "metadata": {},
   "source": [
    "2. Construct the model\n",
    "\t- prior probability for class 0 and 1\n",
    "\t\t* P(class 0) = $N_0/N$, P(class 1) = $N_1/N$\n",
    "\t- MLE(Maximum Likelihood Extimator) for parameters($\\mu$, $\\sigma^2$)\n",
    "\t\t* MLE : Estimators of parameters which maximize the likelihood of data.(Find the parameters that is the most likely to happen in this data)\n",
    "\t\t* MLE of $\\mu$ = $\\sum x_i / N$\n",
    "\t\t* MLE of $\\sigma^2$ = $\\sum(x_i - \\mu)^2 / N$"
   ]
  },
  {
   "cell_type": "markdown",
   "metadata": {},
   "source": [
    "3. Prediction\n",
    "\tUse Bayes theorem and decide the predicted class label.\n",
    "    - Bayes Theorem \n",
    "        * Compare the posterior probabilities on each class and assign the predicted class which has bigger posterior probability on the sample.\n",
    "\t\t* posterior = likelihood x prior\n",
    "        * P(x|class 0)P(class0) < P(x|class 1)P(class1) then x(one sample) can be estimated as class 1."
   ]
  }
 ],
 "metadata": {
  "kernelspec": {
   "display_name": "Python 3",
   "language": "python",
   "name": "python3"
  },
  "language_info": {
   "codemirror_mode": {
    "name": "ipython",
    "version": 3
   },
   "file_extension": ".py",
   "mimetype": "text/x-python",
   "name": "python",
   "nbconvert_exporter": "python",
   "pygments_lexer": "ipython3",
   "version": "3.6.5"
  }
 },
 "nbformat": 4,
 "nbformat_minor": 2
}
